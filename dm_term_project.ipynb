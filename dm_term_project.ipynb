{
  "nbformat": 4,
  "nbformat_minor": 0,
  "metadata": {
    "colab": {
      "name": "dm_team_project.ipynb",
      "provenance": [],
      "collapsed_sections": []
    },
    "kernelspec": {
      "name": "python3",
      "display_name": "Python 3"
    }
  },
  "cells": [
    {
      "cell_type": "code",
      "metadata": {
        "id": "_XpI7yamSggf",
        "colab_type": "code",
        "colab": {
          "base_uri": "https://localhost:8080/",
          "height": 411
        },
        "outputId": "d49bb33f-9a48-487e-b0b7-8ccfd956d718"
      },
      "source": [
        "import os\n",
        "from google.colab import drive\n",
        "drive.mount('/content/drive')\n",
        "\n",
        "path = \"/content/drive/My Drive\"\n",
        "\n",
        "os.chdir(path)\n",
        "os.listdir(path)"
      ],
      "execution_count": 1,
      "outputs": [
        {
          "output_type": "stream",
          "text": [
            "Drive already mounted at /content/drive; to attempt to forcibly remount, call drive.mount(\"/content/drive\", force_remount=True).\n"
          ],
          "name": "stdout"
        },
        {
          "output_type": "execute_result",
          "data": {
            "text/plain": [
              "['CSE 5324 Iteration v1.1.gdoc',\n",
              " 'linruanSop.gdoc',\n",
              " 'final.csv',\n",
              " 'linrandnewSop.gdoc',\n",
              " 'Paper',\n",
              " 'mnist_cnn.py',\n",
              " 'dataset',\n",
              " 'content',\n",
              " 'ratings.csv',\n",
              " 'ratings1.csv',\n",
              " 'dm',\n",
              " 'code_ipynb',\n",
              " 'ngcf_model.pth.tar',\n",
              " 'ngcf_model_loss.pth.tar',\n",
              " 'ncf_ngcf.png',\n",
              " 'se_final_test.gdoc',\n",
              " 'ml_final_test.gdoc',\n",
              " 'dm_final_test.gdoc',\n",
              " 'Untitled0.ipynb',\n",
              " 'dm_final',\n",
              " 'DM_quiz.gdoc']"
            ]
          },
          "metadata": {
            "tags": []
          },
          "execution_count": 1
        }
      ]
    },
    {
      "cell_type": "code",
      "metadata": {
        "id": "RnJ46FJWStWo",
        "colab_type": "code",
        "colab": {}
      },
      "source": [
        "import pandas as pd\n",
        "import numpy as np\n",
        "import re\n",
        "import matplotlib.pyplot as plt\n",
        "from sklearn.feature_extraction.text import TfidfVectorizer\n",
        "from sklearn.feature_extraction.text import CountVectorizer\n",
        "from sklearn.naive_bayes import MultinomialNB\n",
        "from sklearn.svm import LinearSVC\n",
        "from sklearn.metrics import accuracy_score\n",
        "from sklearn import feature_extraction, linear_model, model_selection, preprocessing\n"
      ],
      "execution_count": 0,
      "outputs": []
    },
    {
      "cell_type": "markdown",
      "metadata": {
        "id": "DxH9v5697u67",
        "colab_type": "text"
      },
      "source": [
        "## data preprocess"
      ]
    },
    {
      "cell_type": "markdown",
      "metadata": {
        "id": "c_E4vcam72ie",
        "colab_type": "text"
      },
      "source": [
        "### for this part, we load our dataset, and then drop useless column, and we also drop contain miss value line, and we convert the uppercase letters to lowercase, and the below is shown the dataset we have processed, it contains the rating and comment column."
      ]
    },
    {
      "cell_type": "code",
      "metadata": {
        "id": "1sWl2AqkStp1",
        "colab_type": "code",
        "colab": {
          "base_uri": "https://localhost:8080/",
          "height": 419
        },
        "outputId": "a8d0ebfb-a087-4459-c004-bbcf6b6f566f"
      },
      "source": [
        "def preprocess(file_path):\n",
        "    \n",
        "    comment_rating = pd.read_csv(file_path, encoding = \"ISO-8859-1\")\n",
        "    comment_rating = comment_rating.drop(columns=[\"Unnamed: 0\", 'user', 'ID', 'name'])\n",
        "    comment_rating = comment_rating.dropna(axis = 0, how = 'any')    \n",
        "    comment_rating = comment_rating.reset_index(drop = True)\n",
        "    comment_rating[\"comment\"] = comment_rating[\"comment\"].apply(lambda x: x.lower())\n",
        "    \n",
        "    return comment_rating\n",
        "\n",
        "comment_rating = preprocess('/content/drive/My Drive/dm_final/boardgamegeek-reviews/bgg-13m-reviews.csv')   \n",
        "\n",
        "comment_rating\n"
      ],
      "execution_count": 3,
      "outputs": [
        {
          "output_type": "execute_result",
          "data": {
            "text/html": [
              "<div>\n",
              "<style scoped>\n",
              "    .dataframe tbody tr th:only-of-type {\n",
              "        vertical-align: middle;\n",
              "    }\n",
              "\n",
              "    .dataframe tbody tr th {\n",
              "        vertical-align: top;\n",
              "    }\n",
              "\n",
              "    .dataframe thead th {\n",
              "        text-align: right;\n",
              "    }\n",
              "</style>\n",
              "<table border=\"1\" class=\"dataframe\">\n",
              "  <thead>\n",
              "    <tr style=\"text-align: right;\">\n",
              "      <th></th>\n",
              "      <th>rating</th>\n",
              "      <th>comment</th>\n",
              "    </tr>\n",
              "  </thead>\n",
              "  <tbody>\n",
              "    <tr>\n",
              "      <th>0</th>\n",
              "      <td>10.0</td>\n",
              "      <td>currently, this sits on my list as my favorite...</td>\n",
              "    </tr>\n",
              "    <tr>\n",
              "      <th>1</th>\n",
              "      <td>10.0</td>\n",
              "      <td>i know it says how many plays, but many, many ...</td>\n",
              "    </tr>\n",
              "    <tr>\n",
              "      <th>2</th>\n",
              "      <td>10.0</td>\n",
              "      <td>i will never tire of this game.. awesome</td>\n",
              "    </tr>\n",
              "    <tr>\n",
              "      <th>3</th>\n",
              "      <td>10.0</td>\n",
              "      <td>this is probably the best game i ever played. ...</td>\n",
              "    </tr>\n",
              "    <tr>\n",
              "      <th>4</th>\n",
              "      <td>10.0</td>\n",
              "      <td>fantastic game. got me hooked on games all ove...</td>\n",
              "    </tr>\n",
              "    <tr>\n",
              "      <th>...</th>\n",
              "      <td>...</td>\n",
              "      <td>...</td>\n",
              "    </tr>\n",
              "    <tr>\n",
              "      <th>2637751</th>\n",
              "      <td>3.0</td>\n",
              "      <td>horrible party game.  i'm dumping this one!</td>\n",
              "    </tr>\n",
              "    <tr>\n",
              "      <th>2637752</th>\n",
              "      <td>3.0</td>\n",
              "      <td>difficult to build anything at all with the in...</td>\n",
              "    </tr>\n",
              "    <tr>\n",
              "      <th>2637753</th>\n",
              "      <td>3.0</td>\n",
              "      <td>lego created a version of pictionary, only you...</td>\n",
              "    </tr>\n",
              "    <tr>\n",
              "      <th>2637754</th>\n",
              "      <td>2.5</td>\n",
              "      <td>this game is very similar to creationary. it c...</td>\n",
              "    </tr>\n",
              "    <tr>\n",
              "      <th>2637755</th>\n",
              "      <td>2.0</td>\n",
              "      <td>this game was really bad.  worst that i've pla...</td>\n",
              "    </tr>\n",
              "  </tbody>\n",
              "</table>\n",
              "<p>2637756 rows × 2 columns</p>\n",
              "</div>"
            ],
            "text/plain": [
              "         rating                                            comment\n",
              "0          10.0  currently, this sits on my list as my favorite...\n",
              "1          10.0  i know it says how many plays, but many, many ...\n",
              "2          10.0           i will never tire of this game.. awesome\n",
              "3          10.0  this is probably the best game i ever played. ...\n",
              "4          10.0  fantastic game. got me hooked on games all ove...\n",
              "...         ...                                                ...\n",
              "2637751     3.0        horrible party game.  i'm dumping this one!\n",
              "2637752     3.0  difficult to build anything at all with the in...\n",
              "2637753     3.0  lego created a version of pictionary, only you...\n",
              "2637754     2.5  this game is very similar to creationary. it c...\n",
              "2637755     2.0  this game was really bad.  worst that i've pla...\n",
              "\n",
              "[2637756 rows x 2 columns]"
            ]
          },
          "metadata": {
            "tags": []
          },
          "execution_count": 3
        }
      ]
    },
    {
      "cell_type": "markdown",
      "metadata": {
        "id": "utjov-c28vVz",
        "colab_type": "text"
      },
      "source": [
        "### And then, we producing our rating part, let the rating number round to integer, it's benefit to the next part we predict the comment."
      ]
    },
    {
      "cell_type": "code",
      "metadata": {
        "id": "sHLE8sZyStnf",
        "colab_type": "code",
        "colab": {
          "base_uri": "https://localhost:8080/",
          "height": 187
        },
        "outputId": "ae5c68fa-be8a-4f58-d4ee-7a294574d6af"
      },
      "source": [
        "def generation_new_set(comment_rating):\n",
        "    rating_num_set = {}\n",
        "    for rating in range(1, 11, 1):\n",
        "        new_comment_rating = comment_rating.loc[comment_rating['rating'] >= (rating - 0.5)]\n",
        "        new_comment_rating = new_comment_rating.loc[new_comment_rating['rating'] <= (rating + 0.5)]\n",
        "        new_comment_rating = new_comment_rating.sample(frac = 1).reset_index(drop = True)\n",
        "        rating_num_set[rating] = new_comment_rating\n",
        "    return rating_num_set\n",
        "\n",
        "rating_num_set = generation_new_set(comment_rating)\n",
        "\n",
        "for rating in rating_num_set:\n",
        "    print(\"rating: \", rating, \"rating num:\",  len(rating_num_set[rating]))\n",
        "    "
      ],
      "execution_count": 4,
      "outputs": [
        {
          "output_type": "stream",
          "text": [
            "rating:  1 rating num: 20960\n",
            "rating:  2 rating num: 40766\n",
            "rating:  3 rating num: 77967\n",
            "rating:  4 rating num: 136565\n",
            "rating:  5 rating num: 255791\n",
            "rating:  6 rating num: 526481\n",
            "rating:  7 rating num: 775531\n",
            "rating:  8 rating num: 657581\n",
            "rating:  9 rating num: 322400\n",
            "rating:  10 rating num: 153530\n"
          ],
          "name": "stdout"
        }
      ]
    },
    {
      "cell_type": "markdown",
      "metadata": {
        "id": "mMb_tSQG-wC8",
        "colab_type": "text"
      },
      "source": [
        "### it's show the bar chat about the rating and the rating number. the rating of 6, 7, 8 contains most part."
      ]
    },
    {
      "cell_type": "code",
      "metadata": {
        "id": "-Vo2fN5aStlR",
        "colab_type": "code",
        "colab": {
          "base_uri": "https://localhost:8080/",
          "height": 266
        },
        "outputId": "43dbef18-f49a-46f2-ddf1-b1e30df5f462"
      },
      "source": [
        "rating_list = []\n",
        "for rating in rating_num_set: \n",
        "    rating_list.append(len(rating_num_set[rating]))\n",
        "plt.bar(range(len(rating_list)), rating_list)\n",
        "plt.show()\n"
      ],
      "execution_count": 40,
      "outputs": [
        {
          "output_type": "display_data",
          "data": {
            "image/png": "[encoded data removed]",
            "text/plain": [
              "<Figure size 432x288 with 1 Axes>"
            ]
          },
          "metadata": {
            "tags": [],
            "needs_background": "light"
          }
        }
      ]
    },
    {
      "cell_type": "markdown",
      "metadata": {
        "id": "1Lgszpkg_C2k",
        "colab_type": "text"
      },
      "source": [
        "### split the data into trainset testset development set, and reset index."
      ]
    },
    {
      "cell_type": "code",
      "metadata": {
        "id": "d8VbeS5ZStiL",
        "colab_type": "code",
        "colab": {}
      },
      "source": [
        "def split_train_dev_test(comment_rating):\n",
        "   \n",
        "    train_set = comment_rating[:int(0.7 * len(comment_rating))]\n",
        "    test = comment_rating[int(0.7 * len(comment_rating)):]\n",
        "    test_set = test[:int(0.5 * len(test))]\n",
        "    dev_set = test[int(0.5 * len(test)):]\n",
        "    \n",
        "    dev_set = dev_set.sample(frac = 1).reset_index(drop = True)\n",
        "    test_set = test_set.sample(frac = 1).reset_index(drop = True)\n",
        "    \n",
        "    train_set = train_set.copy()\n",
        "    train_set['reating'] = [round(rating) for rating in train_set['rating']]\n",
        "    test_set['reating'] = [round(rating) for rating in test_set['rating']]\n",
        "    dev_set['reating'] = [round(rating) for rating in dev_set['rating']]\n",
        "\n",
        "    return train_set, test_set, dev_set\n",
        "\n",
        "train_set, dev_set, test_set = split_train_dev_test(comment_rating)\n"
      ],
      "execution_count": 0,
      "outputs": []
    },
    {
      "cell_type": "code",
      "metadata": {
        "id": "55Q5VlInStfY",
        "colab_type": "code",
        "colab": {
          "base_uri": "https://localhost:8080/",
          "height": 68
        },
        "outputId": "9cd9dbd9-baf2-435b-ced6-3693da7045c4"
      },
      "source": [
        "print(\"length of train_set: \", len(train_set))\n",
        "print(\"length of dev_set: \", len(dev_set))\n",
        "print(\"length of test_set: \", len(test_set))\n"
      ],
      "execution_count": 7,
      "outputs": [
        {
          "output_type": "stream",
          "text": [
            "length of train_set:  1846429\n",
            "length of dev_set:  395663\n",
            "length of test_set:  395664\n"
          ],
          "name": "stdout"
        }
      ]
    },
    {
      "cell_type": "markdown",
      "metadata": {
        "id": "XfLctdetAISj",
        "colab_type": "text"
      },
      "source": [
        "### we design two vectorizer function: tfidf and count, and use this function to process the train set and development set, to get the result for next prediction, and then compared the accuracy of the two vectorizer function handal the modul efficiency."
      ]
    },
    {
      "cell_type": "code",
      "metadata": {
        "id": "6_gq9YytTbgq",
        "colab_type": "code",
        "colab": {}
      },
      "source": [
        "def vectorizer_tfidf(train_set, test_set, dev_set):\n",
        "    tfidf_model = TfidfVectorizer()\n",
        "    tfidf_model.fit(train_set['comment'])\n",
        "    \n",
        "    train_tfidf = tfidf_model.transform(train_set['comment'])\n",
        "    test_tfidf = tfidf_model.transform(test_set['comment'])\n",
        "    dev_tfidf = tfidf_model.transform(dev_set['comment'])\n",
        "    \n",
        "    train_tag = train_set['reating'].astype(int)\n",
        "    test_tag = test_set['reating'].astype(int)\n",
        "    dev_tag = dev_set['reating'].astype(int)\n",
        "    \n",
        "    return train_tfidf, train_tag, test_tfidf, test_tag, dev_tfidf, dev_tag\n",
        "\n",
        "train_tfidf, train_tag, test_tfidf, test_tag, dev_tfidf, dev_tag = vectorizer_tfidf(train_set, test_set, dev_set)\n"
      ],
      "execution_count": 0,
      "outputs": []
    },
    {
      "cell_type": "code",
      "metadata": {
        "id": "v56EgubkTbwo",
        "colab_type": "code",
        "colab": {}
      },
      "source": [
        "def vectorizer_count(train_set, test_set, dev_set):\n",
        "    count_model = CountVectorizer()\n",
        "    count_model.fit(train_set['comment'])\n",
        "    \n",
        "    train_count = count_model.transform(train_set['comment'])\n",
        "    test_count = count_model.transform(test_set['comment'])\n",
        "    dev_count = count_model.transform(dev_set['comment'])\n",
        "    \n",
        "    train_tag = train_set['reating'].astype(int)\n",
        "    test_tag = test_set['reating'].astype(int)\n",
        "    dev_tag = dev_set['reating'].astype(int)\n",
        "    \n",
        "    return train_count, train_tag, test_count, test_tag, dev_count, dev_tag\n",
        "\n",
        "train_count, train_tag, test_count, test_tag, dev_count, dev_tag = vectorizer_count(train_set, test_set, dev_set)\n"
      ],
      "execution_count": 0,
      "outputs": []
    },
    {
      "cell_type": "markdown",
      "metadata": {
        "id": "O-jveH_UBBF0",
        "colab_type": "text"
      },
      "source": [
        "## naive bayes modul."
      ]
    },
    {
      "cell_type": "markdown",
      "metadata": {
        "id": "Hm55F1YEBGSO",
        "colab_type": "text"
      },
      "source": [
        "### use naive bayes modul to train our dataset and predict the rating, the bayes theorem p(y|x1x2x3...xn) = p(x1x2x3...xn|y)p(y) / p(x1x2x3...xn). to get the predict, we useing two method to compared the prediction, and drow the bar graph to visualization."
      ]
    },
    {
      "cell_type": "code",
      "metadata": {
        "id": "jOh7X2JLTbvX",
        "colab_type": "code",
        "colab": {}
      },
      "source": [
        "accuracies = {}"
      ],
      "execution_count": 0,
      "outputs": []
    },
    {
      "cell_type": "code",
      "metadata": {
        "id": "YOwGe1wTTbtV",
        "colab_type": "code",
        "colab": {
          "base_uri": "https://localhost:8080/",
          "height": 34
        },
        "outputId": "63dfb3ad-d1a4-4c3e-9866-908b28900d02"
      },
      "source": [
        "def apply_tiidf_bayes(train_tfidf, train_tag, dev_tfidf, dev_tag):\n",
        "    naive_bayes = MultinomialNB()\n",
        "    naive_bayes.fit(train_tfidf, train_tag)\n",
        "    dev_predict = naive_bayes.predict(dev_tfidf)\n",
        "    accuracy = accuracy_score(dev_tag, dev_predict) * 100\n",
        "    accuracies['tfidf_bayes'] = accuracy / 100\n",
        "    print('tfidfvectorizer on naive bayes accuracy: ', accuracy)\n",
        "    return accuracies\n",
        "\n",
        "accuracies = apply_tiidf_bayes(train_tfidf, train_tag, dev_tfidf, dev_tag)\n"
      ],
      "execution_count": 11,
      "outputs": [
        {
          "output_type": "stream",
          "text": [
            "tfidfvectorizer on naive bayes accuracy:  24.813793556637844\n"
          ],
          "name": "stdout"
        }
      ]
    },
    {
      "cell_type": "code",
      "metadata": {
        "id": "GdKbg8cvTbq_",
        "colab_type": "code",
        "colab": {
          "base_uri": "https://localhost:8080/",
          "height": 34
        },
        "outputId": "2359af7c-4d33-4ed1-9664-435c8c06bf77"
      },
      "source": [
        "def apply_tiidf_bayes(train_count, train_tag, dev_count, dev_tag):\n",
        "    naive_bayes = MultinomialNB()\n",
        "    naive_bayes.fit(train_count, train_tag)\n",
        "    dev_predict = naive_bayes.predict(dev_count)\n",
        "    accuracy = accuracy_score(dev_tag, dev_predict) * 100\n",
        "    accuracies['count_bayes'] = accuracy / 100\n",
        "    \n",
        "    print('countvectorizer on naive bayes accuracy: ', accuracy)\n",
        "    return accuracies, naive_bayes\n",
        "\n",
        "accuracies, naive_bayes = apply_tiidf_bayes(train_count, train_tag, dev_tfidf, dev_tag)\n"
      ],
      "execution_count": 41,
      "outputs": [
        {
          "output_type": "stream",
          "text": [
            "countvectorizer on naive bayes accuracy:  26.034023904181087\n"
          ],
          "name": "stdout"
        }
      ]
    },
    {
      "cell_type": "code",
      "metadata": {
        "id": "vPfA1Sy7Tbpc",
        "colab_type": "code",
        "colab": {
          "base_uri": "https://localhost:8080/",
          "height": 282
        },
        "outputId": "e4a071f6-9926-4043-9357-f1d82e16e8e5"
      },
      "source": [
        "figure = plt.figure(figsize=(6, 4)).add_subplot()        \n",
        "figure.set_title('countvectorizer and tfidfvectorizer on bayes  accuracy')\n",
        "figure.set_xticklabels(['tfidf_bayes', 'count_bayes']) \n",
        "figure.set_ylabel('accuracy')\n",
        "plt.bar('tfidf_bayes', accuracies['tfidf_bayes'])\n",
        "figure = plt.bar('count_bayes', accuracies['count_bayes'])\n"
      ],
      "execution_count": 13,
      "outputs": [
        {
          "output_type": "display_data",
          "data": {
            "image/png": "[encoded data removed]",
            "text/plain": [
              "<Figure size 432x288 with 1 Axes>"
            ]
          },
          "metadata": {
            "tags": [],
            "needs_background": "light"
          }
        }
      ]
    },
    {
      "cell_type": "markdown",
      "metadata": {
        "id": "WdnVO3unF0Td",
        "colab_type": "text"
      },
      "source": [
        "## svm modul"
      ]
    },
    {
      "cell_type": "markdown",
      "metadata": {
        "id": "V8C0T0-EF30W",
        "colab_type": "text"
      },
      "source": [
        "### using svm to train our modul, the svm theorem: yi(w/||w||* xi + b / ||w||). and get the prediction, compared the two method, and get the best modul."
      ]
    },
    {
      "cell_type": "code",
      "metadata": {
        "id": "VO8tY5fkTbkt",
        "colab_type": "code",
        "colab": {}
      },
      "source": [
        "show_figure = {}"
      ],
      "execution_count": 0,
      "outputs": []
    },
    {
      "cell_type": "code",
      "metadata": {
        "id": "pBGUp6WoStc_",
        "colab_type": "code",
        "colab": {
          "base_uri": "https://localhost:8080/",
          "height": 34
        },
        "outputId": "397b3faf-a445-4b6e-b8a0-da431f54776f"
      },
      "source": [
        "def apply_tiidf_svm(train_tfidf, train_tag, dev_tfidf, dev_tag):\n",
        "    svm_modul = LinearSVC()\n",
        "    svm_modul.fit(train_tfidf, train_tag)\n",
        "    dev_predict = svm_modul.predict(dev_tfidf)\n",
        "    accuracy = accuracy_score(dev_tag, dev_predict) * 100\n",
        "\n",
        "    show_figure['tfidf_svm'] = accuracy / 100\n",
        "    print('tfidfvectorizer on svm accuracy: ', accuracy)\n",
        "    return show_figure\n",
        "\n",
        "show_figure = apply_tiidf_svm(train_tfidf, train_tag, dev_tfidf, dev_tag)\n"
      ],
      "execution_count": 15,
      "outputs": [
        {
          "output_type": "stream",
          "text": [
            "tfidfvectorizer on svm accuracy:  29.629002459163477\n"
          ],
          "name": "stdout"
        }
      ]
    },
    {
      "cell_type": "code",
      "metadata": {
        "id": "4FonkzwkTkHD",
        "colab_type": "code",
        "colab": {
          "base_uri": "https://localhost:8080/",
          "height": 34
        },
        "outputId": "ae472c01-e67a-4ff5-dbb3-6a05f857bfae"
      },
      "source": [
        "def apply_count_bayes(train_count, train_tag, dev_count, dev_tag):\n",
        "    svm_modul = LinearSVC()\n",
        "    svm_modul.fit(train_count, train_tag)\n",
        "    dev_predict = svm_modul.predict(dev_count)\n",
        "    accuracy = accuracy_score(dev_tag, dev_predict) * 100\n",
        "    show_figure['count_svm'] = accuracy / 100\n",
        "    \n",
        "    print('countvectorizer on svm accuracy: ', accuracy)\n",
        "    return show_figure\n",
        "\n",
        "show_figure = apply_count_bayes(train_tfidf, train_tag, dev_tfidf, dev_tag)\n"
      ],
      "execution_count": 18,
      "outputs": [
        {
          "output_type": "stream",
          "text": [
            "countvectorizer on svm accuracy:  32.770847872001305\n"
          ],
          "name": "stdout"
        }
      ]
    },
    {
      "cell_type": "code",
      "metadata": {
        "id": "p7Bxhp0hTkRv",
        "colab_type": "code",
        "colab": {
          "base_uri": "https://localhost:8080/",
          "height": 282
        },
        "outputId": "f7c0fd6f-67eb-4c4f-956b-49ac998a2059"
      },
      "source": [
        "figure = plt.figure(figsize=(6, 4)).add_subplot()        \n",
        "figure.set_title('countvectorizer and tfidfvectorizer on svm  accuracy')\n",
        "figure.set_xticklabels(['tfidf_svm', 'count_svm']) \n",
        "figure.set_ylabel('accuracy')\n",
        "plt.bar('tfidf_svm', show_figure['tfidf_svm'])\n",
        "figure = plt.bar('count_svm', show_figure['count_svm'])\n"
      ],
      "execution_count": 22,
      "outputs": [
        {
          "output_type": "display_data",
          "data": {
            "image/png": "[encoded data removed]",
            "text/plain": [
              "<Figure size 432x288 with 1 Axes>"
            ]
          },
          "metadata": {
            "tags": [],
            "needs_background": "light"
          }
        }
      ]
    },
    {
      "cell_type": "code",
      "metadata": {
        "id": "uciZeVxtTkQd",
        "colab_type": "code",
        "colab": {
          "base_uri": "https://localhost:8080/",
          "height": 139
        },
        "outputId": "4fd590c9-6433-473e-d728-94bc99549169"
      },
      "source": [
        "count_model = CountVectorizer()\n",
        "count_model.fit(train_set['comment'])"
      ],
      "execution_count": 61,
      "outputs": [
        {
          "output_type": "execute_result",
          "data": {
            "text/plain": [
              "CountVectorizer(analyzer='word', binary=False, decode_error='strict',\n",
              "                dtype=<class 'numpy.int64'>, encoding='utf-8', input='content',\n",
              "                lowercase=True, max_df=1.0, max_features=None, min_df=1,\n",
              "                ngram_range=(1, 1), preprocessor=None, stop_words=None,\n",
              "                strip_accents=None, token_pattern='(?u)\\\\b\\\\w\\\\w+\\\\b',\n",
              "                tokenizer=None, vocabulary=None)"
            ]
          },
          "metadata": {
            "tags": []
          },
          "execution_count": 61
        }
      ]
    },
    {
      "cell_type": "code",
      "metadata": {
        "id": "IQsTs5qyV1E9",
        "colab_type": "code",
        "colab": {}
      },
      "source": [
        "while True:\n",
        "\n",
        "    input_string = input()\n",
        "    input_string_list = []\n",
        "\n",
        "    input_string_list.append(input_string)\n",
        "    input_string1 = count_model.transform(input_string_list)\n",
        "    input_string_list.clear()\n",
        "\n",
        "    get_predict = naive_bayes.predict(input_string1)\n",
        "    print(\"rating is : \", get_predict)\n"
      ],
      "execution_count": 0,
      "outputs": []
    }
  ]
}